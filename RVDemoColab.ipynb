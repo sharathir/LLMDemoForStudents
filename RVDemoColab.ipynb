{
  "nbformat": 4,
  "nbformat_minor": 0,
  "metadata": {
    "colab": {
      "provenance": [],
      "authorship_tag": "ABX9TyPQAeLiJONN0rrvyFAC2Dqq",
      "include_colab_link": true
    },
    "kernelspec": {
      "name": "python3",
      "display_name": "Python 3"
    },
    "language_info": {
      "name": "python"
    }
  },
  "cells": [
    {
      "cell_type": "markdown",
      "metadata": {
        "id": "view-in-github",
        "colab_type": "text"
      },
      "source": [
        "<a href=\"https://colab.research.google.com/github/sharathir/LLMDemoForStudents/blob/main/RVDemoColab.ipynb\" target=\"_parent\"><img src=\"https://colab.research.google.com/assets/colab-badge.svg\" alt=\"Open In Colab\"/></a>"
      ]
    },
    {
      "cell_type": "code",
      "execution_count": null,
      "metadata": {
        "id": "20MCBVzE8dzz"
      },
      "outputs": [],
      "source": [
        "!pip install transformers accelerate sentencepiece\n",
        "\n"
      ]
    },
    {
      "cell_type": "code",
      "source": [
        "from transformers import AutoTokenizer, AutoModelForCausalLM\n",
        "\n",
        "model_name = \"microsoft/phi-2\"\n",
        "#model_name = \"google/gemma-2b\" //Access issue, didn't work\n",
        "#model_name = \"Qwen/Qwen1.5-1.8B-Chat\"\n",
        "#model_name = \"mistralai/Mistral-7B-v0.1\" //Access issue, didn't work"
      ],
      "metadata": {
        "id": "6lFKNqNC_0Wp"
      },
      "execution_count": null,
      "outputs": []
    },
    {
      "cell_type": "code",
      "source": [
        "tokenizer = AutoTokenizer.from_pretrained(model_name)\n",
        "model = AutoModelForCausalLM.from_pretrained(model_name, device_map=\"auto\")\n",
        "\n",
        "prompt = \"Explain quantum physics in simple words for a 10-year-old.\"\n"
      ],
      "metadata": {
        "id": "aCioda8T9AAg"
      },
      "execution_count": null,
      "outputs": []
    },
    {
      "cell_type": "code",
      "source": [
        "inputs = tokenizer(prompt, return_tensors=\"pt\").to(model.device)\n",
        "outputs = model.generate(**inputs, max_new_tokens=200)\n",
        "\n",
        "print(tokenizer.decode(outputs[0], skip_special_tokens=True))"
      ],
      "metadata": {
        "id": "leftrncS9phD"
      },
      "execution_count": null,
      "outputs": []
    }
  ]
}